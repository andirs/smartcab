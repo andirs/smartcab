{
 "cells": [
  {
   "cell_type": "markdown",
   "metadata": {},
   "source": [
    "# Training a self-driving car agent\n",
    "## Reinforcement Learning Project\n",
    "This documentation outlines the thought process behind training a smartcab to navigate on its own. We're applying reinforcement learning techniques for a self-driving agent in a simplified world to aid it in effectively reaching its destinations in the allotted time. \n",
    "\n",
    "First we'll investigate the given environment in which the agent operates in and instruct it, to execute very basic driving commands. Afterwards we'll exhibit the different states a smartcab can be in, analyzing its limited world and derive a Q-Learning algorithm, that will guide the agent towards its destination. At last we'll be going through several iterations in order to find the best configuration for our algorithm and the environment its operating in, to improve the results.\n",
    "\n",
    "## Description\n",
    "In the not-so-distant future, taxicab companies across the United States no longer employ human drivers to operate their fleet of vehicles. Instead, the taxicabs are operated by self-driving agents — known as smartcabs — to transport people from one location to another within the cities those companies operate. In major metropolitan areas, such as Chicago, New York City, and San Francisco, an increasing number of people have come to rely on smartcabs to get to where they need to go as safely and efficiently as possible. Although smartcabs have become the transport of choice, concerns have arose that a self-driving agent might not be as safe or efficient as human drivers, particularly when considering city traffic lights and other vehicles. To alleviate these concerns, your task as an employee for a national taxicab company is to use reinforcement learning techniques to construct a demonstration of a smartcab operating in real-time to prove that both safety and efficiency can be achieved.\n",
    "\n",
    "## Software Requirements\n",
    "This project uses the following software and Python libraries:\n",
    "\n",
    "* [Python 2.7](https://www.python.org/download/releases/2.7/)\n",
    "* [NumPy](http://www.numpy.org/)\n",
    "* [PyGame](http://pygame.org/)\n",
    "    * **Helpful links for installing PyGame:**\n",
    "    * [Getting Started](https://www.pygame.org/wiki/GettingStarted)\n",
    "    * [PyGame Information](http://www.pygame.org/wiki/info)\n",
    "    * [Google Group](https://groups.google.com/forum/#!forum/pygame-mirror-on-google-groups)\n",
    "    * [PyGame subreddit](https://www.reddit.com/r/pygame/)\n",
    "    \n",
    "## Definitions\n",
    "\n",
    "### Environment\n",
    "The smartcab operates in an ideal, simplified, grid-like city (see image below). Roads are established on two major axis (North-South & East-West). There are other vehicles on the road but the city is abstracted to a point where there are no other obstacles such as traffic jams, construction sights or other heterogenous agents such as pedestrians. However there are certain rules the city runs on, which are alike to our street system. At each intersection there is a traffic light that either allows traffic in the North-South direction or the East-West direction.\n",
    "\n",
    "![Smart Cab Environment](smartcab_screenshot.png)\n",
    "\n",
    "**Following rules guide the traffic:**\n",
    "* On a green light, a left turn is permitted if there is no oncoming traffic making a right turn or coming straight through the intersection.\n",
    "* On a red light, a right turn is permitted if no oncoming traffic is approaching from your left through the intersection.\n",
    "\n",
    "### Inputs and Outputs\n",
    "Very much alike to modern hail-a-cab applications the smartcab will have a route assigned based on t he passengers' starting location and the destination. The route is split at each intersection into waypoints, and for simplicity purposes the the smartcab is at some intersection at any instant in the world. \n",
    "\n",
    "Therefore, the next waypoint to the destination, assuming the destination has not already been reached, is one intersection away in one direction (North, South, East, or West). \n",
    "\n",
    "### States\n",
    "The smartcab has only an egocentric view of the intersection it is at and can therefore use following information: \n",
    "\n",
    "* The state of the traffic light for its direction of movement: `['green', 'red']`\n",
    "* Whether there is a vehicle at the intersection for each of the oncoming directions: `['left', 'right', 'oncoming']`\n",
    "\n",
    "### Actions\n",
    "For each action, the smartcab has one of the following options:\n",
    "\n",
    "* Idle at the intersection\n",
    "* Drive to the next intersection to either of the directions, which offers a set of following actions: `[None, 'left', 'right', 'forward']`\n",
    "\n",
    "### Deadline\n",
    "The smartcab has to get to its final destination in a given time. With each action taken, this time decreases. If the allotted time becomes zero before reaching the destination, the trip has failed.\n",
    "\n",
    "### Rewards, Penalties and Goal\n",
    "Smartcabs receive rewards for each successfully completed trip and smaller rewards for each action they execute successfully that obeys traffic rules. For any incorrect action a small penalty will be given and violating traffic rules or causing traffic accidents result in a high penalty. Based on the rewards and penalties the smartcab receives, the self-driving agent implementation will learn an optimal policy for driving on the city roads while obeying traffic rules, avoiding accidents, and reaching passengers' destinations in the allotted time.\n",
    "\n",
    "## Implementing a Basic Driving Agent\n",
    "In order to get going, we'll implement a basic driving agent that chooses from all possible actions one at random and drives through the city streets. \n",
    "In order to do so, we set `enforce_deadline` to `False` on line `47` and implement the following code in `agent.py` on line `30`:"
   ]
  },
  {
   "cell_type": "code",
   "execution_count": 1,
   "metadata": {
    "collapsed": false
   },
   "outputs": [],
   "source": [
    "# Pick a random action from set of possible actions. \n",
    "import random\n",
    "action = random.choice([None, 'forward', 'left', 'right'])"
   ]
  },
  {
   "cell_type": "code",
   "execution_count": 2,
   "metadata": {
    "collapsed": false
   },
   "outputs": [
    {
     "name": "stdout",
     "output_type": "stream",
     "text": [
      "Smartcab performs following 5 actions: ['left', 'right', 'right', None, 'right']\n"
     ]
    }
   ],
   "source": [
    "# Quick code to demonstrate effect of actions allocation. \n",
    "n = 5\n",
    "action_dict = []\n",
    "for _ in range(n):\n",
    "    action_dict.append(random.choice([None, 'forward', 'left', 'right']))\n",
    "print \"Smartcab performs following\", n, \"actions:\", action_dict"
   ]
  },
  {
   "cell_type": "markdown",
   "metadata": {},
   "source": [
    "In order to make the observations countable we're implementing a code that counts each state where `deadline == 0` and `reward < 8` as not successful and states in which `reward >= 8` as successful attempts. We're choosing `8` as a reward boundary in order to account for possible negative rewards that are possible on the last attempt to get to the goal. For example if the car gets into an accident while going on the last field. Following code simulates this process:"
   ]
  },
  {
   "cell_type": "code",
   "execution_count": 3,
   "metadata": {
    "collapsed": false
   },
   "outputs": [
    {
     "data": {
      "text/html": [
       "<div>\n",
       "<table border=\"1\" class=\"dataframe\">\n",
       "  <thead>\n",
       "    <tr style=\"text-align: right;\">\n",
       "      <th></th>\n",
       "      <th>trial_count</th>\n",
       "    </tr>\n",
       "  </thead>\n",
       "  <tbody>\n",
       "    <tr>\n",
       "      <th>no_success</th>\n",
       "      <td>90</td>\n",
       "    </tr>\n",
       "    <tr>\n",
       "      <th>success</th>\n",
       "      <td>10</td>\n",
       "    </tr>\n",
       "  </tbody>\n",
       "</table>\n",
       "</div>"
      ],
      "text/plain": [
       "            trial_count\n",
       "no_success           90\n",
       "success              10"
      ]
     },
     "execution_count": 3,
     "metadata": {},
     "output_type": "execute_result"
    }
   ],
   "source": [
    "import pandas as pd\n",
    "import numpy as np\n",
    "from smartcab.rl_stats import draw_sigmoid, plot_ts\n",
    "\n",
    "# Create dict for trial summary\n",
    "trial_summary = {}\n",
    "# Initiate two states (0 = not successful, 1 = successful)\n",
    "for i in range(2):\n",
    "    trial_summary[i] = 0\n",
    "\n",
    "for i in range(100):\n",
    "    # Initiate dummy variables\n",
    "    deadline = 0\n",
    "    reward = 0\n",
    "    \n",
    "    # Simulates 10% of attempts being successful\n",
    "    if (i % 10 == 0):\n",
    "        deadline = 1\n",
    "        reward = 8\n",
    "    if (deadline == 0) & (reward < 8):\n",
    "        trial_summary[0] += 1\n",
    "    elif (reward >= 8):\n",
    "        trial_summary[1] += 1\n",
    "\n",
    "success_summary = pd.DataFrame.from_dict(trial_summary, orient='index')\n",
    "success_summary.columns = ['trial_count']\n",
    "success_summary.index = ['no_success', 'success']\n",
    "success_summary"
   ]
  },
  {
   "cell_type": "markdown",
   "metadata": {},
   "source": [
    "As mentioned we'll implement a loop that executes the trials n-times, store the results in a table and takes the average over all n attempts for better comparision."
   ]
  },
  {
   "cell_type": "markdown",
   "metadata": {},
   "source": [
    "`basic_agent.py` looks like follows:\n",
    "\n",
    "```python\n",
    "import pandas as pd\n",
    "import random\n",
    "from collections import Counter\n",
    "from environment import Agent, Environment\n",
    "from planner import RoutePlanner\n",
    "from simulator import Simulator\n",
    "\n",
    "class LearningAgent(Agent):\n",
    "    \"\"\"An agent that learns to drive in the smartcab world.\"\"\"\n",
    "\n",
    "    def __init__(self, env):\n",
    "        super(LearningAgent, self).__init__(env)  # sets self.env = env, state = None, next_waypoint = None, and a default color\n",
    "        self.color = 'taxi'  # override color\n",
    "        self.planner = RoutePlanner(self.env, self)  # simple route planner to get next_waypoint\n",
    "        # TODO: Initialize any additional variables here\n",
    "        self.trial_count = 0\n",
    "        self.trial_summary = {}\n",
    "        for i in range(2):\n",
    "            self.trial_summary[i] = 0\n",
    "\n",
    "    def reset(self, destination=None):\n",
    "        self.planner.route_to(destination)\n",
    "        # TODO: Prepare for a new trip; reset any variables here, if required\n",
    "        self.trial_count = 0\n",
    "        #self.trial_summary[0] = 0\n",
    "        #self.trial_summary[1] = 0\n",
    "\n",
    "    def update(self, t):\n",
    "        # Gather inputs\n",
    "        self.next_waypoint = self.planner.next_waypoint()  # from route planner, also displayed by simulator\n",
    "        inputs = self.env.sense(self)\n",
    "        deadline = self.env.get_deadline(self)\n",
    "\n",
    "        # TODO: Update state\n",
    "        \n",
    "        # TODO: Select action according to your policy\n",
    "        action = random.choice([None, 'forward', 'left', 'right'])\n",
    "\n",
    "        # Execute action and get reward\n",
    "        reward = self.env.act(self, action)\n",
    "\n",
    "        # TODO: Learn policy based on state, action, reward\n",
    "\n",
    "        print \"LearningAgent.update(): deadline = {}, inputs = {}, action = {}, reward = {}\".format(\n",
    "            deadline, inputs, action, reward)  # [debug]\n",
    "\n",
    "        if (deadline == 0) & (reward < 8):\n",
    "            self.trial_summary[0] += 1\n",
    "            print \"#\" * 20\n",
    "            print \"Trial was unsuccessful.\"\n",
    "            print \"#\" * 20\n",
    "        else:\n",
    "            if (reward >= 8):\n",
    "                self.trial_summary[1] += 1\n",
    "                print \"#\" * 20\n",
    "                print \"Trial was successful.\"\n",
    "                print \"#\" * 20\n",
    "\n",
    "def run():\n",
    "    \"\"\"Run the agent for a finite number of trials.\"\"\"\n",
    "\n",
    "    # Set up environment and agent\n",
    "    e = Environment()  # create environment (also adds some dummy traffic)\n",
    "    a = e.create_agent(LearningAgent)  # create agent\n",
    "    e.set_primary_agent(a, enforce_deadline=False)  # specify agent to track\n",
    "    # NOTE: You can set enforce_deadline=False while debugging to allow longer trials\n",
    "\n",
    "    # Now simulate it\n",
    "    # create simulator (uses pygame when display=True, if available)\n",
    "    sim = Simulator(e, update_delay=0, display=False)  \n",
    "    # NOTE: To speed up simulation, reduce update_delay and/or set display=False\n",
    "\n",
    "    success_summary = pd.DataFrame(index = ['no_success', 'success'])\n",
    "    validation_no = 10\n",
    "\n",
    "    for i in range(validation_no):\n",
    "        sim.run(n_trials=100)  # run for a specified number of trials\n",
    "        # NOTE: To quit midway, press Esc or close pygame window, or hit Ctrl+C on the command-line\n",
    "        print \"Trial Count: \", a.trial_count\n",
    "        success_temp = pd.DataFrame.from_dict(a.trial_summary, orient='index')\n",
    "        success_temp.index = ['no_success', 'success']\n",
    "        temp_column_name = 'trial_count_' + str(i+1)\n",
    "        #success_temp.columns = [temp_column_name]\n",
    "        success_summary[temp_column_name] = success_temp\n",
    "        a.trial_summary[0] = 0\n",
    "        a.trial_summary[1] = 0\n",
    "    #print \"Arrived\", Counter(a.trial_summary.values()).most_common()[1][1], \"times.\"\n",
    "    print success_summary\n",
    "    success_average = success_summary.mean(axis=1)\n",
    "    print \"Average: \"\n",
    "    print success_average\n",
    "    print \"Percentage: \", success_average[0:][1] / success_average[0:][0] \n",
    "\n",
    "if __name__ == '__main__':\n",
    "    run()\n",
    "```"
   ]
  },
  {
   "cell_type": "markdown",
   "metadata": {},
   "source": [
    "### Observations\n",
    "> There are a couple interesting observations when you run the smartcab with nothing but random actions:\n",
    "\n",
    "> * When crashing, cars will restart at a different location and start to perform actions again.\n",
    "> * There are 3 other agents or cars in play.\n",
    "> * With n $\\rightarrow \\infty$ (through `enforce_deadline = False`) the agent reaches the goal eventually if it doesn't crash into another vehicle.\n",
    "> * There is a reward system in place that shows the immediate gratification of an action.\n",
    "\n",
    "> When we set `enforce_deadline` to `False` and let it run 10 times with `n_trials = 100` we get following averaging stats:\n",
    "\n",
    "> |               | trial_count   |\n",
    "> | ------------- | ------------- |\n",
    "> | no_success    | 79.5          |\n",
    "> | success       | 20.5          |\n",
    "\n",
    "> Which indicates that only 25.78 % of all agents reach their destination in the given time. Not very convenient for our passengers. This is the measure we would like to improve significantly down the road. \n",
    "\n",
    ">> The data corresponding to this claim can be found in the file: `data/basic_agent_trials.csv`\n",
    "\n",
    "We'll use this metric as one of our baselines for our next implementations."
   ]
  },
  {
   "cell_type": "code",
   "execution_count": 11,
   "metadata": {
    "collapsed": false
   },
   "outputs": [
    {
     "data": {
      "text/html": [
       "<div>\n",
       "<table border=\"1\" class=\"dataframe\">\n",
       "  <thead>\n",
       "    <tr style=\"text-align: right;\">\n",
       "      <th></th>\n",
       "      <th>trial_count_1</th>\n",
       "      <th>trial_count_2</th>\n",
       "      <th>trial_count_3</th>\n",
       "      <th>trial_count_4</th>\n",
       "      <th>trial_count_5</th>\n",
       "      <th>trial_count_6</th>\n",
       "      <th>trial_count_7</th>\n",
       "      <th>trial_count_8</th>\n",
       "      <th>trial_count_9</th>\n",
       "      <th>trial_count_10</th>\n",
       "    </tr>\n",
       "  </thead>\n",
       "  <tbody>\n",
       "    <tr>\n",
       "      <th>no_success</th>\n",
       "      <td>73</td>\n",
       "      <td>79</td>\n",
       "      <td>76</td>\n",
       "      <td>78</td>\n",
       "      <td>80</td>\n",
       "      <td>87</td>\n",
       "      <td>77</td>\n",
       "      <td>82</td>\n",
       "      <td>77</td>\n",
       "      <td>86</td>\n",
       "    </tr>\n",
       "    <tr>\n",
       "      <th>success</th>\n",
       "      <td>27</td>\n",
       "      <td>21</td>\n",
       "      <td>24</td>\n",
       "      <td>22</td>\n",
       "      <td>20</td>\n",
       "      <td>13</td>\n",
       "      <td>23</td>\n",
       "      <td>18</td>\n",
       "      <td>23</td>\n",
       "      <td>14</td>\n",
       "    </tr>\n",
       "  </tbody>\n",
       "</table>\n",
       "</div>"
      ],
      "text/plain": [
       "            trial_count_1  trial_count_2  trial_count_3  trial_count_4  \\\n",
       "no_success             73             79             76             78   \n",
       "success                27             21             24             22   \n",
       "\n",
       "            trial_count_5  trial_count_6  trial_count_7  trial_count_8  \\\n",
       "no_success             80             87             77             82   \n",
       "success                20             13             23             18   \n",
       "\n",
       "            trial_count_9  trial_count_10  \n",
       "no_success             77              86  \n",
       "success                23              14  "
      ]
     },
     "execution_count": 11,
     "metadata": {},
     "output_type": "execute_result"
    }
   ],
   "source": [
    "basic_agent_trials = pd.read_csv('data/basic_agent_trials.csv', index_col=0)\n",
    "basic_agent_trials"
   ]
  },
  {
   "cell_type": "code",
   "execution_count": 12,
   "metadata": {
    "collapsed": false
   },
   "outputs": [
    {
     "data": {
      "text/plain": [
       "no_success    79.5\n",
       "success       20.5\n",
       "dtype: float64"
      ]
     },
     "execution_count": 12,
     "metadata": {},
     "output_type": "execute_result"
    }
   ],
   "source": [
    "basic_agent_trials.mean(axis=1)"
   ]
  },
  {
   "cell_type": "markdown",
   "metadata": {},
   "source": [
    "### Inform the Driving Agent\n",
    "Now that the driving agent is capable of moving around in the environment, the next task is to identify a set of states that are appropriate for modeling the smartcab and environment. \n",
    "\n",
    "The main source of state variables are the current inputs at the intersection, but given our set of rules not all may require representation. The goal is, to process the inputs and update the agent's current state at each waypoint using the `self.state` variable. In order to check our performance we'll continue with the simulation deadline enforcement `enforce_deadline` being set to `False`.\n",
    "\n",
    "#### All information available\n",
    "Let's take a look at all information we've got available in our environment and talk through the possibilities that come with each of these inputs.\n",
    "\n",
    "##### Traffic Lights\n",
    "As mentioned above, we have an indicator that shows what color the traffic light at any given position of the agent has. This can take the values `green` and `red`. We find this information in the inputs dictionary and can call it with `inputs['light']`. Given our set of rules, this is a highly useful indicator for our smartcab to decide whether it should perform a certain action or not. This information will be included in our set of state variables.\n",
    "\n",
    "```python\n",
    "`inputs['light'] = ['red', 'green']`\n",
    "```\n",
    "\n",
    "##### Traffic\n",
    "Our agent can detect, whether there is a vehicle at the intersection for each of the oncoming directions and what action this other agent is performing. Given the set of rules that apply on US streets we have following information that we need to especially emphasize:\n",
    "\n",
    "* If the traffic light is green:\n",
    "    * Is there oncoming traffic going in my direction? ($\\rightarrow$ can't perform a left turn)\n",
    "* If the traffic light is red:\n",
    "    * Is there traffic coming from the left side? ($\\rightarrow$ can't make a right turn)\n",
    "\n",
    "However since we want to let our agent learn these rules through reinforcement and gratification we are going to add all the information about traffic in our set of states. This adds following set to the list: \n",
    "\n",
    "```python\n",
    "`inputs['oncoming'] = [None, 'left', 'right', 'forward']`\n",
    "`inputs['left'] = [None, 'left', 'right', 'forward']`\n",
    "`inputs['right'] = [None, 'left', 'right', 'forward']`\n",
    "```\n",
    "\n",
    "##### Waypoints\n",
    "The decision, which step to perform next is essential to learning if some action is good or bad, given the state. Especially in reinforcement learning. If you compare it to a simple but hurtful early life analogy, this is where our agent will understand if the cooktop is hot or not.\n",
    "\n",
    "```python\n",
    "`self.next_waypoint = ['forward', 'left', 'right']`\n",
    "```\n",
    "\n",
    "##### Deadline\n",
    "One could argue that the time that is available for the smartcab to perform its delivery describes the state its in. We can think about classic situations where cab drivers are pushed to their limits and into breaking the law in order to get a passenger faster to the destination. Since we're building this system though, to perform optimal results without breaking the law we should discard this input though. \n",
    "Another valid concern is the number of possible combinations. Given that the deadline reduces by `1` on each action we perform an average of 40 to 50 actions each run, this would add a multiplier of `len(deadline)` to the state combinations that we already have. With only 100 training runs including around 40 to 50 actions in each run this might be a state input that rather distracts the learner from learning what's essential for the task.\n",
    "\n",
    "##### The final states for our Q-Learner\n",
    ">To summarize, we're planning on including following inputs to the list of possible state combinations:\n",
    "\n",
    "> ```python\n",
    "`inputs['light'] = ['red', 'green']` -> 2\n",
    "`inputs['oncoming'] = [None, 'left', 'right', 'forward']` -> 4\n",
    "`inputs['left'] = [None, 'left', 'right', 'forward']` -> 4\n",
    "`inputs['right'] = [None, 'left', 'right', 'forward']` -> 4\n",
    "`self.next_waypoint = ['forward', 'left', 'right']` -> 3\n",
    "```\n",
    "\n",
    "The total number of states therefore is the combination of all states:\n",
    "$$ 2 * 4 * 4 * 3 = 384 $$\n",
    "\n",
    "**Does this number seem reasonable given that the goal of Q-Learning is to learn and make informed decisions about each state?**\n",
    "\n",
    ">Given that we are dealing with around `2000` to `4000` waypoints in our trials (`100` runs * `20` to `40` actions), the amount of `384` states seems to be a bit high. We could consider dropping `inputs['right']`, since given our rules if the traffic light is red and we want to make a right turn (which is allowed by US rules) this would be a correct action that wouldn't end up in an accident but all other actions would be incorrect and therefore should be learned as being incorrect. This would bring down the number of states to `96` but we would lose some flexibility, if we for example would change the rules slightly and appply it to some European traffic settings our Reinforcement Learner would learn incorrect rules. Since we'll be adding each state as a combination when it occures to a dictionary and calculate its given value we might not even end up evaluating and adding all `384` states. Therefore it should be alright to add all appearances out of `384` possible combinations."
   ]
  },
  {
   "cell_type": "markdown",
   "metadata": {
    "collapsed": true
   },
   "source": [
    "## Implement a Q-Learning Driving Agent\n",
    "With the driving agent being capable of interpreting inputs and having a mapping of environmental states, we now want to make her understand how to best choose actions given this information. In order to do so, we are implementing an algorithm called Q-Learning. \n",
    "Q-Learning will essentially compute the best action based on rewards given by states that the agent goes through. The Q-Learning driving agent will need to consider these rewards when updating its Q-values.\n",
    "\n",
    "Specialty: Stochastic vs. Deterministic\n",
    "\n",
    "The algorithm can be described as follows:\n",
    "\n",
    "1. Initialize $Q(s, a)$ arbitrarily\n",
    "2. For life or until learning is stopped...\n",
    "    3. Initialize $s$\n",
    "    4. Repeat (for each step of episode):\n",
    "        5. Choose $a$ from $s$ using policy derived from $Q$ (using i.e. ε greedy)\n",
    "        6. Take action $a$, observe reward $r$ at state $s'$\n",
    "        7. Update: $Q(s,a) \\leftarrow (1 - \\alpha) * Q(s,a) + \\alpha * [r + \\gamma * (max_{\\alpha}Q(s',a') )]$\n",
    "        8. $s \\leftarrow s'$;\n",
    "    9. Until $s$ is terminal\n",
    "\n",
    "\n",
    "* Where $\\alpha$ is the learning rate set between `[0, 1]`.\n",
    "* $\\gamma$ is the discount factor which models the fact that future rewards are worth less than immediate rewards.\n",
    "\n",
    "[Input from Faculty of Engineering UNSW](http://www.cse.unsw.edu.au/~cs9417ml/RL1/algorithms.html)\n",
    "\n",
    "### Q-Learning Code\n",
    "We're now implementing this algorithm to make our agent learn the best possible policy.\n",
    "\n",
    "#### 1. Initialize Q(s, a) arbitrarily\n",
    "We'll deal with the initialization part on the fly with a 'lazy initialization'. Every state is added to the list of possible states once it occurs and set its actions q-values to the value `q_start`.\n",
    "\n",
    "```python\n",
    "    if qtable.has_key(state):\n",
    "        [...]\n",
    "    else:\n",
    "        # Initialize new state using q_start\n",
    "        qtable.update({state : {None : q_start, 'forward' : q_start, 'left' : q_start, 'right' : q_start}})\n",
    "```\n",
    "\n",
    "#### 2. Choose a from s\n",
    "As we can see, we first check if we've seen a state before or not by accessing our dictionary. To account for states we haven't seen, we add following line of code that picks a random action to the `else` statement above.\n",
    "\n",
    "```python\n",
    "    action = random.choice(action_set)\n",
    "```\n",
    "\n",
    "If however we've seen the state before, we are going to determine the best possible action to move forward based on past rewards. To make sure our implementation is robust enough to tackle local minimums and pitfalls such as sub-optimal policies by learning the wrong moves we are implementing a feature of exploration. In order to do so, we are defining a probability ε that ensures that our implementation takes a random turn with ε probability. This is also called an ε-greedy strategy.\n",
    "\n",
    "```python\n",
    "    random_threshold = random.random()\n",
    "    \n",
    "    if qtable.has_key(state):\n",
    "        # Check if random threshold is smaller or equal epsilon\n",
    "        # to account for randomness factor\n",
    "        if random_threshold < self.epsilon:\n",
    "            # Determine maximum of Q value(s) for given state\n",
    "            q_max = max(qtable[state].values())\n",
    "            action_set = {action:q_new for action, q_new in qtable[state].items() if q_new == q_max}\n",
    "            action = random.choice(action_set.keys())\n",
    "        else:\n",
    "            # Occasionally perform random action\n",
    "            # to explore world especially in the beginning\n",
    "            action = random.choice(action_set)\n",
    "    else:\n",
    "        # Initialize new state using q_start\n",
    "        qtable.update({state : {None : q_start, 'forward' : q_start, 'left' : q_start, 'right' : q_start}})\n",
    "        action = random.choice(action_set)\n",
    "    return action\n",
    "```\n",
    "\n",
    "#### 3. Take action a, observe reward r at state s' and learn from it\n",
    "Afterwards our agent takes said action, gets the reward for the new state she's in and starts learning. To recall the function we are going to use for our calculation is:\n",
    "\n",
    "$$ Q(s,a) \\leftarrow (1 - \\alpha) * Q(s,a) + \\alpha * [r + \\gamma * (max_{\\alpha}Q(s',a') )] $$\n",
    "\n",
    "We implement the following code for learning the policy, enabling our agent to store the information of old and new rewards connected to the current and old state. Afterwards we store the current state, action and reward for future calculations in a separate variable:\n",
    "\n",
    "```python\n",
    "if self.trial_count > 0:\n",
    "    q_new = qtable[self.prev_state][self.prev_action]\n",
    "    q_new = (1-alpha) * q_new + (alpha * (self.prev_rewards + (gamma * (max(qtable[state].values())))))\n",
    "    \n",
    "self.prev_state = self.state\n",
    "self.prev_action = action\n",
    "self.prev_rewards = reward\n",
    "```\n",
    "\n",
    "At this point our agent has performed an action, got a reward, calculated the q-value attached to the scenery and advanced to state s'.\n",
    "\n",
    "In order to run the program we have to initialize some of the parameters. For a first initialization we'll be choosing following values for the parameters:\n",
    "\n",
    "* alpha = 0.5 - this ensures that our algorithm continously learns at a steady pace.\n",
    "* gamma = 0.5 - makes our agent appreciate future rewards equally to immediate rewards.\n",
    "* epsilon = 0.8 - intuitively gives enough room for exploration while most of the time choosing the right decision."
   ]
  },
  {
   "cell_type": "code",
   "execution_count": 30,
   "metadata": {
    "collapsed": false
   },
   "outputs": [
    {
     "data": {
      "text/html": [
       "<div>\n",
       "<table border=\"1\" class=\"dataframe\">\n",
       "  <thead>\n",
       "    <tr style=\"text-align: right;\">\n",
       "      <th></th>\n",
       "      <th>alpha</th>\n",
       "      <th>gamma</th>\n",
       "      <th>epsilon</th>\n",
       "      <th>no_success</th>\n",
       "      <th>success</th>\n",
       "      <th>steps</th>\n",
       "      <th>deadline_start</th>\n",
       "      <th>deadline_end</th>\n",
       "      <th>percentage</th>\n",
       "    </tr>\n",
       "  </thead>\n",
       "  <tbody>\n",
       "    <tr>\n",
       "      <th>0</th>\n",
       "      <td>0.5</td>\n",
       "      <td>0.5</td>\n",
       "      <td>0.8</td>\n",
       "      <td>14.8</td>\n",
       "      <td>85.2</td>\n",
       "      <td>24.4</td>\n",
       "      <td>30.22</td>\n",
       "      <td>13.254</td>\n",
       "      <td>43.837732</td>\n",
       "    </tr>\n",
       "  </tbody>\n",
       "</table>\n",
       "</div>"
      ],
      "text/plain": [
       "   alpha  gamma  epsilon  no_success  success  steps  deadline_start  \\\n",
       "0    0.5    0.5      0.8        14.8     85.2   24.4           30.22   \n",
       "\n",
       "   deadline_end  percentage  \n",
       "0        13.254   43.837732  "
      ]
     },
     "execution_count": 30,
     "metadata": {},
     "output_type": "execute_result"
    }
   ],
   "source": [
    "fc_q0r1 = pd.read_csv('data/feature_comparison_baseline.csv', sep = ';')\n",
    "fc_q0r1"
   ]
  },
  {
   "cell_type": "code",
   "execution_count": 31,
   "metadata": {
    "collapsed": false
   },
   "outputs": [
    {
     "data": {
      "image/png": "[encoded data removed]",
      "text/plain": [
       "<matplotlib.figure.Figure at 0x11722ad90>"
      ]
     },
     "metadata": {},
     "output_type": "display_data"
    }
   ],
   "source": [
    "plot_ts((.5,.5,.8), \"data/ts_feature_comparison_baseline.p\")"
   ]
  },
  {
   "cell_type": "markdown",
   "metadata": {},
   "source": [
    "**What changes do you notice in the agent's behavior when compared to the basic driving agent when random actions were always taken?** \n",
    "> Below are observations of the biggest changes noticable compared to the basic driving agent:\n",
    "> * The biggest change that can be noticed is, the agent starts heading towards the destination even early in the process when almost no rules have been learned yet.\n",
    "> * The agent stops at certain points, when needed but doesn't halt at a stop when the light is green and there is no interfering traffic.\n",
    "> * The agent also learns that running over a red light is a bad choice and learns to either wait or pick a different route.\n",
    "> * There are hardly any crashes that happen any more but it happens that even at a late stage that the agent makes mistakes.\n",
    "> * In the beginning there are some negative outcomes but later on the positive results overweigh.\n",
    "> * In fact the agent has a high success rate with only a few negative outcomes until later in the learning process.\n",
    "\n",
    "**Why is this behavior occurring?**\n",
    "> * It becomes obvious that the agent tries to maximize the actions that are producing the highest reward.\n",
    "> * By adding a certain randomness to the algorithm (through a $\\epsilon$ greedy implementation) we're taking into account to make mistakes but avoid getting stuck in a local minimum and learning a semi-optimal policy.\n",
    "> * The agent seems to learn by her mistakes in the first iterations taking safer routes later on after she has learned.\n",
    "> * Allowing out agent to explore 20 % of the time might make the difference in this setup.\n",
    "\n",
    "We'll be taking these results as a first step towards a better policy and will try to maximize our agent's performance not only based on the success rate but also on other factors such as time."
   ]
  },
  {
   "cell_type": "markdown",
   "metadata": {
    "collapsed": true
   },
   "source": [
    "## Improve the Q-Learning Driving Agent\n",
    "The final task now is to enhance our driving agent so that, after sufficient training, the smartcab is able to reach the destination within the allotted time safely and efficiently. Parameters we are taking into account when it comes to tweaking the Q-Learning algorithm are\n",
    "\n",
    "* the learning rate (alpha)\n",
    "* the discount factor (gamma) and \n",
    "* the exploration rate (epsilon) \n",
    "\n",
    "All these parameters contribute to the driving agent’s ability to learn the best action for each state. \n",
    "\n",
    "**QUESTION: Report the different values for the parameters tuned in your basic implementation of Q-Learning.**\n",
    "\n",
    "## Feature comparison\n",
    "In order to find the best parameters for our agent and our environment, we are testing an array of feature combinations. At first let's take into consideration what each of these parameters stands for and what the effects of raising or lowering them could mean.\n",
    "\n",
    "### Alpha (α)\n",
    "Alpha (α) is also called the learning rate. Which means, this parameter defines how slow or fast our Q-Learning implementation learns. If we look at our implementation we see that α is being used to determine how much of the old q-value and how much of the new q-value is taken into consideration when learning the policy. The learning rate therefore determines to what extent the newly acquired information will override the old information. Speaking in extremes a factor of `0` will make the agent not learn anything, while an α value of `1` would make the agent consider only the most recent information.\n",
    "Generally speaking, if the reward or transition function is stochastic (read random), then it could be wise to have α change over time and approaching zero at infinity. But we will try out an array of values in order to find the right configuration for our problem.\n",
    "\n",
    "```python\n",
    "    alpha = [.05, .3, .6, .9, 1]\n",
    "```\n",
    "\n",
    "### Gamma (γ)\n",
    "The discount factor γ can be seen as the value of future rewards. This plays a major part in learning our correct policy. γ can be implemented as either a dynamic or static value depending on the environment the agent is acting in. γ determines how much the agent values future rewards vs. immediate rewards. Once again looking to extreme values a γ of `0` will make the agent only value immediate rewards and turn it into a short sighted agent. If γ is set to `1` on the other hand, the agent values future rewards equally much as current rewards. A factor approaching `1` will make the agent strive for a long-term high reward.\n",
    "\n",
    "```python\n",
    "    gamma = [.05, .3, .6, .9, 1]\n",
    "```\n",
    "\n",
    "\n",
    "### Exploration rate (ε)\n",
    "The exploration rate determines how much randomness the agent allows for her actions. A high ε value in our case determines a low probability or randomness or in other words, the agent is more likely to choose the best action than a random action. This method of randomness ensures though that if enough trials are done, each action will be tried an infinite number of times. That's one of the properties for any Q-Learning agent to converge. It also ensures that optimal actions are discovered.\n",
    "\n",
    "```python\n",
    "    epsilon = [.05, .3, .6, .9, 1]\n",
    "```\n",
    "\n",
    "### Dynamic Parameters\n",
    "As already discussed, it might be helpful to choose a parameter that evolves dynamically over the course of time. In order to implement this as a possible feature combination to choose from we take the sigmoid function and implement it with a positive $t$ where the function is supposed to move towards 1 and a negative $t$ where the function should move towards 0.\n",
    "\n",
    "$$ S_{t} = \\frac{1}{1 + e^{-t}} $$\n",
    "\n",
    "The standard sigmoid curve looks like this:"
   ]
  },
  {
   "cell_type": "code",
   "execution_count": 32,
   "metadata": {
    "collapsed": false
   },
   "outputs": [
    {
     "data": {
      "image/png": "[encoded data removed]",
      "text/plain": [
       "<matplotlib.figure.Figure at 0x117c69890>"
      ]
     },
     "metadata": {},
     "output_type": "display_data"
    }
   ],
   "source": [
    "draw_sigmoid([1])"
   ]
  },
  {
   "cell_type": "markdown",
   "metadata": {},
   "source": [
    "One problem that might occur is, that a sigmoid function tends to move towards 1 (or 0) rather quickly. As indicated above with a t of 5 (meaning after 5 steps) the function already reaches a value close to 1.\n",
    "In order to cope up with this, we are adding two more slower evolving sigmoid functions to our ensemble. By dividing each t-step by 2 and 3, we manage to reach a more subtle development of the curve."
   ]
  },
  {
   "cell_type": "code",
   "execution_count": 33,
   "metadata": {
    "collapsed": false
   },
   "outputs": [
    {
     "data": {
      "image/png": "[encoded data removed]",
      "text/plain": [
       "<matplotlib.figure.Figure at 0x117ac9d90>"
      ]
     },
     "metadata": {},
     "output_type": "display_data"
    }
   ],
   "source": [
    "draw_sigmoid([2,3])"
   ]
  },
  {
   "cell_type": "markdown",
   "metadata": {},
   "source": [
    "We are choosing the following setup for the dynamic parameters:\n",
    "* alpha will start at ~1 and move towards 0\n",
    "* gamma will start at ~0 and move towards 1\n",
    "* epsilon will start at 0.5 and move towards 1\n",
    "\n",
    "For each of the setups, we decide to progress in two different speeds: `[t, t/2]`"
   ]
  },
  {
   "cell_type": "markdown",
   "metadata": {},
   "source": [
    "## Success metrics\n",
    "In order to determine whether a combination is working great or should rather be discarded we need success metrics and a baseline to test against. From our initial testing on the basic agent with random actions we could already gauge her performance through the amount of times she reached her destination. Beating a 25.78 % success percentage should be the least we can do. In order to evaluate our combinations a little bit more in detail while keeping the most natural metric we are establishing some further metrics. For clarification here are all the numbers we are looking at:\n",
    "\n",
    "#### Success vs. no success\n",
    "One very important metric is, the question on how often an agent reaches her final destination. For each trial we will count the amount and calculate the mean over all test runs.\n",
    "\n",
    "#### Steps\n",
    "This metric intuitively counts the average steps it takes for a cab to reach its destination. The smaller the better. But this number is skewed through the random initialization of destination and cab. Averaged over all test runs this will still give us interesting insights about how quick a certain feature combination learns. \n",
    "\n",
    "#### Remaining Time vs. Time Alotted\n",
    "In addition to the amount of successful trials (aka how often did the cab reach the destination in the alotted time) we also want to establish a metric that takes into consideration the ratio of the still remaining time and the deadline. Since the deadline is chosen based on the distance between the starting point of our cab and the location of the final destination, we are normalizing this term. We calculate this metric by dividing the remaining time at the end (which could also be 0 for unsuccessful trials) by the alotted time in the beginning and multiply it by 100 which gives us the ratio of time used vs. time given. We will print out: initial deadline (`deadline_start`), remaining time (`deadline_end`) and the ratio in between for comparability (creatively called ... *drum roll* ... `percentage`)."
   ]
  },
  {
   "cell_type": "markdown",
   "metadata": {},
   "source": [
    "## Parameter Testing\n",
    "Next we're going to observe the driving agent’s learning and smartcab’s success rate. We're also curious in how the success rate progresses over time as the agent learns. In order to find the best parameters we're going to use an exhaustive process that tries the mentioned parameters in their combinations.\n",
    "\n",
    "### Overall Comparison Setup\n",
    "The setup is as follows, each combination will run for 100 trials with enforced deadline and afterwards create a summary. These runs will cycle 5 times and all summaries will be averaged, calculating the success metrics. All information will be stored in a file:\n",
    "\n",
    "> The comparison result files can be found in the folder `data/` the initial feature combination data is stored in `feature_comparison_qinit0_rinit0.csv` and `ts_feature_comparison_qinit0_rinit0.p` for the time-series data."
   ]
  },
  {
   "cell_type": "code",
   "execution_count": 40,
   "metadata": {
    "collapsed": false
   },
   "outputs": [
    {
     "data": {
      "text/html": [
       "<div>\n",
       "<table border=\"1\" class=\"dataframe\">\n",
       "  <thead>\n",
       "    <tr style=\"text-align: right;\">\n",
       "      <th></th>\n",
       "      <th>alpha</th>\n",
       "      <th>gamma</th>\n",
       "      <th>epsilon</th>\n",
       "      <th>no_success</th>\n",
       "      <th>success</th>\n",
       "      <th>steps</th>\n",
       "      <th>deadline_start</th>\n",
       "      <th>deadline_end</th>\n",
       "      <th>percentage</th>\n",
       "    </tr>\n",
       "  </thead>\n",
       "  <tbody>\n",
       "    <tr>\n",
       "      <th>200</th>\n",
       "      <td>1.00</td>\n",
       "      <td>0.05</td>\n",
       "      <td>1.0</td>\n",
       "      <td>0.0</td>\n",
       "      <td>100.0</td>\n",
       "      <td>10.8</td>\n",
       "      <td>29.86</td>\n",
       "      <td>18.276</td>\n",
       "      <td>61.213835</td>\n",
       "    </tr>\n",
       "    <tr>\n",
       "      <th>298</th>\n",
       "      <td>99.00</td>\n",
       "      <td>0.05</td>\n",
       "      <td>1.0</td>\n",
       "      <td>0.4</td>\n",
       "      <td>99.6</td>\n",
       "      <td>11.8</td>\n",
       "      <td>29.18</td>\n",
       "      <td>17.696</td>\n",
       "      <td>60.637523</td>\n",
       "    </tr>\n",
       "    <tr>\n",
       "      <th>151</th>\n",
       "      <td>0.90</td>\n",
       "      <td>0.05</td>\n",
       "      <td>1.0</td>\n",
       "      <td>0.2</td>\n",
       "      <td>99.8</td>\n",
       "      <td>10.8</td>\n",
       "      <td>30.08</td>\n",
       "      <td>18.202</td>\n",
       "      <td>60.524823</td>\n",
       "    </tr>\n",
       "    <tr>\n",
       "      <th>235</th>\n",
       "      <td>1.00</td>\n",
       "      <td>9.00</td>\n",
       "      <td>1.0</td>\n",
       "      <td>1.8</td>\n",
       "      <td>98.2</td>\n",
       "      <td>13.8</td>\n",
       "      <td>30.05</td>\n",
       "      <td>18.152</td>\n",
       "      <td>60.442766</td>\n",
       "    </tr>\n",
       "    <tr>\n",
       "      <th>207</th>\n",
       "      <td>1.00</td>\n",
       "      <td>0.30</td>\n",
       "      <td>1.0</td>\n",
       "      <td>0.4</td>\n",
       "      <td>99.6</td>\n",
       "      <td>10.2</td>\n",
       "      <td>29.54</td>\n",
       "      <td>17.808</td>\n",
       "      <td>60.292098</td>\n",
       "    </tr>\n",
       "    <tr>\n",
       "      <th>11</th>\n",
       "      <td>0.05</td>\n",
       "      <td>0.30</td>\n",
       "      <td>1.0</td>\n",
       "      <td>0.8</td>\n",
       "      <td>99.2</td>\n",
       "      <td>8.2</td>\n",
       "      <td>29.85</td>\n",
       "      <td>17.986</td>\n",
       "      <td>60.256073</td>\n",
       "    </tr>\n",
       "    <tr>\n",
       "      <th>284</th>\n",
       "      <td>9.00</td>\n",
       "      <td>9.00</td>\n",
       "      <td>1.0</td>\n",
       "      <td>0.6</td>\n",
       "      <td>99.4</td>\n",
       "      <td>11.6</td>\n",
       "      <td>29.32</td>\n",
       "      <td>17.468</td>\n",
       "      <td>59.564776</td>\n",
       "    </tr>\n",
       "    <tr>\n",
       "      <th>333</th>\n",
       "      <td>99.00</td>\n",
       "      <td>9.00</td>\n",
       "      <td>1.0</td>\n",
       "      <td>0.6</td>\n",
       "      <td>99.4</td>\n",
       "      <td>8.8</td>\n",
       "      <td>29.75</td>\n",
       "      <td>17.718</td>\n",
       "      <td>59.518469</td>\n",
       "    </tr>\n",
       "    <tr>\n",
       "      <th>67</th>\n",
       "      <td>0.30</td>\n",
       "      <td>0.60</td>\n",
       "      <td>1.0</td>\n",
       "      <td>0.2</td>\n",
       "      <td>99.8</td>\n",
       "      <td>11.2</td>\n",
       "      <td>30.10</td>\n",
       "      <td>17.890</td>\n",
       "      <td>59.417939</td>\n",
       "    </tr>\n",
       "    <tr>\n",
       "      <th>53</th>\n",
       "      <td>0.30</td>\n",
       "      <td>0.05</td>\n",
       "      <td>1.0</td>\n",
       "      <td>0.6</td>\n",
       "      <td>99.4</td>\n",
       "      <td>12.6</td>\n",
       "      <td>29.19</td>\n",
       "      <td>17.302</td>\n",
       "      <td>59.350034</td>\n",
       "    </tr>\n",
       "  </tbody>\n",
       "</table>\n",
       "</div>"
      ],
      "text/plain": [
       "     alpha  gamma  epsilon  no_success  success  steps  deadline_start  \\\n",
       "200   1.00   0.05      1.0         0.0    100.0   10.8           29.86   \n",
       "298  99.00   0.05      1.0         0.4     99.6   11.8           29.18   \n",
       "151   0.90   0.05      1.0         0.2     99.8   10.8           30.08   \n",
       "235   1.00   9.00      1.0         1.8     98.2   13.8           30.05   \n",
       "207   1.00   0.30      1.0         0.4     99.6   10.2           29.54   \n",
       "11    0.05   0.30      1.0         0.8     99.2    8.2           29.85   \n",
       "284   9.00   9.00      1.0         0.6     99.4   11.6           29.32   \n",
       "333  99.00   9.00      1.0         0.6     99.4    8.8           29.75   \n",
       "67    0.30   0.60      1.0         0.2     99.8   11.2           30.10   \n",
       "53    0.30   0.05      1.0         0.6     99.4   12.6           29.19   \n",
       "\n",
       "     deadline_end  percentage  \n",
       "200        18.276   61.213835  \n",
       "298        17.696   60.637523  \n",
       "151        18.202   60.524823  \n",
       "235        18.152   60.442766  \n",
       "207        17.808   60.292098  \n",
       "11         17.986   60.256073  \n",
       "284        17.468   59.564776  \n",
       "333        17.718   59.518469  \n",
       "67         17.890   59.417939  \n",
       "53         17.302   59.350034  "
      ]
     },
     "execution_count": 40,
     "metadata": {},
     "output_type": "execute_result"
    }
   ],
   "source": [
    "fc_q0r0 = pd.read_csv('data/feature_comparison_qinit0_rinit0.csv', sep = ';')\n",
    "fc_q0r0.sort_values(['percentage', 'steps', 'success'], ascending=[False, True, False]).head(n=10)"
   ]
  },
  {
   "cell_type": "code",
   "execution_count": 37,
   "metadata": {
    "collapsed": false
   },
   "outputs": [
    {
     "name": "stdout",
     "output_type": "stream",
     "text": [
      "Feature combinations with a 100% success rate: 1\n",
      "Smallest average step count for a success rate higher than 90 % was: 6.8\n"
     ]
    }
   ],
   "source": [
    "print 'Feature combinations with a 100% success rate: {}'.format(\n",
    "    len(fc_q0r0[fc_q0r0['success'] == 100.0]))\n",
    "print 'Smallest average step count for a success rate higher than 90 % was: {}'.format(min(fc_q0r0[fc_q0r0['success'] > 90.0]['steps']))"
   ]
  },
  {
   "cell_type": "markdown",
   "metadata": {},
   "source": [
    "**For which set of parameters does the agent perform best? How well does the final driving agent perform?**\n",
    "\n",
    "When we look at our first parameter combinations there are a couple very interesting takeaways:\n",
    "* As mentioned above we have parameters that leave the game without even failing once to reach the destination.\n",
    "* There were feature combinations that led to an average step count of 6.8 (while keeping a success rate higher than 90 %)\n",
    "* In fact: the frontrunner based on the deadline_end vs deadline_start ratio percentage achieved its result with an average step count of 10.8 and over 61% of time still on the clock.\n",
    "\n",
    "The Parameters:\n",
    "* α: Based on these stats, alpha tends to work better with a higher (above .5) or dynamic setting that starts at ~1 and makes alpha move towards 0 over time.\n",
    "\n",
    "* γ: For gamma, lower values tend to work better based on these metrics. This could have to do with the small playing field and the limited time given plus the steps it takes to reach the destination. In a game like this with our metrics, leaning towards immediate rewards seems to play out better for the agent.\n",
    "\n",
    "* ε: The closer epsilon is to 1, the better the results get. It seems like agents that are exploring are being penalized for their wrong actions heavily based on our success definition. This could be connected to the environment, the success metrics we're using and the scope of the problem we are trying to learn. In a world where there is only limited time and a small playing field it might pay off to rather take the best learned action than to pick one at random.\n",
    "\n",
    "Keeping in mind, that we want to make sure the algorithm always converges we would like to choose an ε that is smaller than 1 or never reaches 1. Taking this approach drops our success rate and percentage value down but it keeps an open mind towards larger settings and environments that are harder to move in. With this argument in mind, we're also discarding too small values for γ because we're looking for long-term effects in our training."
   ]
  },
  {
   "cell_type": "code",
   "execution_count": 50,
   "metadata": {
    "collapsed": false
   },
   "outputs": [
    {
     "data": {
      "text/html": [
       "<div>\n",
       "<table border=\"1\" class=\"dataframe\">\n",
       "  <thead>\n",
       "    <tr style=\"text-align: right;\">\n",
       "      <th></th>\n",
       "      <th>alpha</th>\n",
       "      <th>gamma</th>\n",
       "      <th>epsilon</th>\n",
       "      <th>no_success</th>\n",
       "      <th>success</th>\n",
       "      <th>steps</th>\n",
       "      <th>deadline_start</th>\n",
       "      <th>deadline_end</th>\n",
       "      <th>percentage</th>\n",
       "    </tr>\n",
       "  </thead>\n",
       "  <tbody>\n",
       "    <tr>\n",
       "      <th>17</th>\n",
       "      <td>0.05</td>\n",
       "      <td>0.6</td>\n",
       "      <td>0.9</td>\n",
       "      <td>3.8</td>\n",
       "      <td>96.2</td>\n",
       "      <td>16.8</td>\n",
       "      <td>30.2</td>\n",
       "      <td>16.878</td>\n",
       "      <td>55.892645</td>\n",
       "    </tr>\n",
       "  </tbody>\n",
       "</table>\n",
       "</div>"
      ],
      "text/plain": [
       "    alpha  gamma  epsilon  no_success  success  steps  deadline_start  \\\n",
       "17   0.05    0.6      0.9         3.8     96.2   16.8            30.2   \n",
       "\n",
       "    deadline_end  percentage  \n",
       "17        16.878   55.892645  "
      ]
     },
     "execution_count": 50,
     "metadata": {},
     "output_type": "execute_result"
    }
   ],
   "source": [
    "fc_q0r0[(fc_q0r0['epsilon'] != 1) & (fc_q0r0['gamma'] > .5)].sort_values(\n",
    "    ['percentage', 'steps', 'success'], ascending=[False, True, False]).head(n=1)"
   ]
  },
  {
   "cell_type": "markdown",
   "metadata": {},
   "source": [
    "Based on these rules, we're picking the following values:\n",
    "\n",
    "```python\n",
    "    alpha = 0.05\n",
    "    gamma = 0.6\n",
    "    epsilon = 0.9\n",
    "```\n",
    "\n",
    "When looking how this feature combination progressed over time, we can see that due to our insisted-on randomness, the agent seems to make mistakes and fail to succeed even late in the learning process. This effect however is far less severe then with our initial baseline and the parameter setup succeeds to improve it."
   ]
  },
  {
   "cell_type": "code",
   "execution_count": 51,
   "metadata": {
    "collapsed": false
   },
   "outputs": [
    {
     "data": {
      "image/png": "[encoded data removed]",
      "text/plain": [
       "<matplotlib.figure.Figure at 0x11779c090>"
      ]
     },
     "metadata": {},
     "output_type": "display_data"
    }
   ],
   "source": [
    "plot_ts((.05,.6,.9), \"data/ts_feature_comparison_qinit0_rinit0.p\")"
   ]
  },
  {
   "cell_type": "markdown",
   "metadata": {},
   "source": [
    "## Further thoughts and Parameter Tuning\n",
    "For additional exploration we want to take a step back and see, what else is out there that could make a difference for our agent. \n",
    "\n",
    "### More granular parameters\n",
    "Looking at the distances in between parameters we chose, we could now go back and redo the feature combination with settings that are closer to the ones we chose. We could either substitute the parameters we have with parameters that are closer in range to the ones we picked or add them to the list.\n",
    "\n",
    "Suggested changes would be:\n",
    "\n",
    "```python\n",
    "    alpha = [.05, .1, .2, 99]\n",
    "    gamma = [.6, .7, .8, 99]\n",
    "    epsilon = [.9, .95, .99]\n",
    "```"
   ]
  },
  {
   "cell_type": "code",
   "execution_count": 55,
   "metadata": {
    "collapsed": false
   },
   "outputs": [
    {
     "data": {
      "text/html": [
       "<div>\n",
       "<table border=\"1\" class=\"dataframe\">\n",
       "  <thead>\n",
       "    <tr style=\"text-align: right;\">\n",
       "      <th></th>\n",
       "      <th>alpha</th>\n",
       "      <th>gamma</th>\n",
       "      <th>epsilon</th>\n",
       "      <th>no_success</th>\n",
       "      <th>success</th>\n",
       "      <th>steps</th>\n",
       "      <th>deadline_start</th>\n",
       "      <th>deadline_end</th>\n",
       "      <th>percentage</th>\n",
       "    </tr>\n",
       "  </thead>\n",
       "  <tbody>\n",
       "    <tr>\n",
       "      <th>47</th>\n",
       "      <td>99.0</td>\n",
       "      <td>99.0</td>\n",
       "      <td>0.99</td>\n",
       "      <td>1.2</td>\n",
       "      <td>98.8</td>\n",
       "      <td>11.0</td>\n",
       "      <td>29.48</td>\n",
       "      <td>17.554</td>\n",
       "      <td>59.542556</td>\n",
       "    </tr>\n",
       "  </tbody>\n",
       "</table>\n",
       "</div>"
      ],
      "text/plain": [
       "    alpha  gamma  epsilon  no_success  success  steps  deadline_start  \\\n",
       "47   99.0   99.0     0.99         1.2     98.8   11.0           29.48   \n",
       "\n",
       "    deadline_end  percentage  \n",
       "47        17.554   59.542556  "
      ]
     },
     "execution_count": 55,
     "metadata": {},
     "output_type": "execute_result"
    }
   ],
   "source": [
    "fc_q0r1 = pd.read_csv('data/feature_comparison_granular.csv', sep = ';')\n",
    "fc_q0r1.sort_values(['percentage', 'steps', 'success'], ascending=[False, True, False]).head(n=1)"
   ]
  },
  {
   "cell_type": "code",
   "execution_count": 54,
   "metadata": {
    "collapsed": false
   },
   "outputs": [
    {
     "data": {
      "image/png": "[encoded data removed]",
      "text/plain": [
       "<matplotlib.figure.Figure at 0x11722a110>"
      ]
     },
     "metadata": {},
     "output_type": "display_data"
    }
   ],
   "source": [
    "plot_ts((99,99,.99), 'data/ts_feature_comparison_granular.p')"
   ]
  },
  {
   "cell_type": "markdown",
   "metadata": {},
   "source": [
    "By adding these values to the mix, we were able to create an even better result. Most of the improvement can be acounted to chosing an epsilon that is very close to 1. The ideal parameters to choose after this more in-depth analysis are:\n",
    "\n",
    "```python\n",
    "    alpha = sig(-t/2)\n",
    "    gamma = sig(t/2)\n",
    "    epsilon = .99\n",
    "```"
   ]
  },
  {
   "cell_type": "markdown",
   "metadata": {},
   "source": [
    "### Initial conditions\n",
    "As mentioned before and shown in code we need to initialize states and their q_values that we haven't seen before. This move is inevitable because Q-Learning moves and learns in an iterative fashion. The decision on how to choose these initial conditions is often referred to as being 'arbitrary'. Further research suggested ways to map human behaviour better by resetting the initial condition for a certain action after experiencing it for the first time with its immediate reward. This approach seems to be consistent with human behaviour which was shown in repeated binary choice experiments. High initial values, also known as \"optimistic initial conditions\" can encourage exploration: no matter what action is selected, the update rule will cause it to have lower values than the other alternative, thus increasing their choice probability. \n",
    "In addition a high initial value tends to favor exploration in the beginning which is intuitively the right move to take when thrown into a new world.\n",
    "\n",
    "Input from [Mark Lee @ University of Alberta](http://webdocs.cs.ualberta.ca/~sutton/book/ebook/node21.html)\n",
    "and [The role of first impression in operant learning](http://psycnet.apa.org/?&fa=main.doiLanding&doi=10.1037/a0029550)\n",
    "\n",
    "First we set the q values to a high initial value to encourage exploration in the beginning. This effect will be smaller though because our action values are being updated to the current reward value at a very early time. \n",
    "\n",
    "```python\n",
    "    self.q_start = {None : 10, 'forward': 10, 'left': 10, 'right': 10}\n",
    "    self.q_start_count = {None : 0, 'forward': 0, 'left': 0, 'right': 0}\n",
    "```\n",
    "`q_start_count` is basically just a counter keeping track if the action was already seen. If so, the counter is increased by one. When acting, the agent now checks if the action has been rewarded before and if so, sets the initial q value to its reward.\n",
    "\n",
    "```python\n",
    "    if (self.q_start_count[action] == 1):\n",
    "        self.q_start[action] = reward\n",
    "```\n",
    "\n",
    "#### Action-Reward-Q-value Initialization\n",
    "Given our parameters, we'll try to add the insights we gathered about human behavior when a state is unknown and the action's being taken for the first time adding the new state's reward to it."
   ]
  },
  {
   "cell_type": "code",
   "execution_count": 60,
   "metadata": {
    "collapsed": false
   },
   "outputs": [
    {
     "data": {
      "text/html": [
       "<div>\n",
       "<table border=\"1\" class=\"dataframe\">\n",
       "  <thead>\n",
       "    <tr style=\"text-align: right;\">\n",
       "      <th></th>\n",
       "      <th>alpha</th>\n",
       "      <th>gamma</th>\n",
       "      <th>epsilon</th>\n",
       "      <th>no_success</th>\n",
       "      <th>success</th>\n",
       "      <th>steps</th>\n",
       "      <th>deadline_start</th>\n",
       "      <th>deadline_end</th>\n",
       "      <th>percentage</th>\n",
       "    </tr>\n",
       "  </thead>\n",
       "  <tbody>\n",
       "    <tr>\n",
       "      <th>0</th>\n",
       "      <td>99</td>\n",
       "      <td>99</td>\n",
       "      <td>0.99</td>\n",
       "      <td>8.8</td>\n",
       "      <td>91.2</td>\n",
       "      <td>9.6</td>\n",
       "      <td>30.22</td>\n",
       "      <td>16.144</td>\n",
       "      <td>53.281207</td>\n",
       "    </tr>\n",
       "  </tbody>\n",
       "</table>\n",
       "</div>"
      ],
      "text/plain": [
       "   alpha  gamma  epsilon  no_success  success  steps  deadline_start  \\\n",
       "0     99     99     0.99         8.8     91.2    9.6           30.22   \n",
       "\n",
       "   deadline_end  percentage  \n",
       "0        16.144   53.281207  "
      ]
     },
     "execution_count": 60,
     "metadata": {},
     "output_type": "execute_result"
    }
   ],
   "source": [
    "fc_q0r0 = pd.read_csv('data/feature_comparison_qinit0_rinit1.csv', sep = ';')\n",
    "fc_q0r0.sort_values(['percentage', 'steps', 'success'], ascending=[False, True, False])"
   ]
  },
  {
   "cell_type": "code",
   "execution_count": 61,
   "metadata": {
    "collapsed": false
   },
   "outputs": [
    {
     "data": {
      "image/png": "[encoded data removed]",
      "text/plain": [
       "<matplotlib.figure.Figure at 0x117c0a090>"
      ]
     },
     "metadata": {},
     "output_type": "display_data"
    }
   ],
   "source": [
    "plot_ts((99,99,.99), 'data/ts_feature_comparison_qinit0_rinit1.p')"
   ]
  },
  {
   "cell_type": "markdown",
   "metadata": {},
   "source": [
    "This approach seems to perform quite well in the beginning. However it might be possible that the agent learns some sub-optimal actions that are penalizing the learning process later on. In fact the agent only fully recovers after trial 80 and works without additional negative experiences.\n",
    "\n",
    "#### High Initial Q-value\n",
    "Let's see what a change in starting values will do the agents performance. At first we're changing only the initial state, bumping it up to 10 instead of a 0 initalization."
   ]
  },
  {
   "cell_type": "code",
   "execution_count": 56,
   "metadata": {
    "collapsed": false
   },
   "outputs": [
    {
     "data": {
      "text/html": [
       "<div>\n",
       "<table border=\"1\" class=\"dataframe\">\n",
       "  <thead>\n",
       "    <tr style=\"text-align: right;\">\n",
       "      <th></th>\n",
       "      <th>alpha</th>\n",
       "      <th>gamma</th>\n",
       "      <th>epsilon</th>\n",
       "      <th>no_success</th>\n",
       "      <th>success</th>\n",
       "      <th>steps</th>\n",
       "      <th>deadline_start</th>\n",
       "      <th>deadline_end</th>\n",
       "      <th>percentage</th>\n",
       "    </tr>\n",
       "  </thead>\n",
       "  <tbody>\n",
       "    <tr>\n",
       "      <th>0</th>\n",
       "      <td>99</td>\n",
       "      <td>99</td>\n",
       "      <td>0.99</td>\n",
       "      <td>3.0</td>\n",
       "      <td>97.0</td>\n",
       "      <td>7.8</td>\n",
       "      <td>30.14</td>\n",
       "      <td>17.948</td>\n",
       "      <td>59.553128</td>\n",
       "    </tr>\n",
       "  </tbody>\n",
       "</table>\n",
       "</div>"
      ],
      "text/plain": [
       "   alpha  gamma  epsilon  no_success  success  steps  deadline_start  \\\n",
       "0     99     99     0.99         3.0     97.0    7.8           30.14   \n",
       "\n",
       "   deadline_end  percentage  \n",
       "0        17.948   59.553128  "
      ]
     },
     "execution_count": 56,
     "metadata": {},
     "output_type": "execute_result"
    }
   ],
   "source": [
    "fc_q10r0 = pd.read_csv('data/feature_comparison_qinit10_rinit0.csv', sep = ';')\n",
    "fc_q10r0.sort_values(['percentage', 'steps', 'success'], ascending=[False, True, False])"
   ]
  },
  {
   "cell_type": "code",
   "execution_count": 57,
   "metadata": {
    "collapsed": false
   },
   "outputs": [
    {
     "data": {
      "image/png": "[encoded data removed]",
      "text/plain": [
       "<matplotlib.figure.Figure at 0x11727fdd0>"
      ]
     },
     "metadata": {},
     "output_type": "display_data"
    }
   ],
   "source": [
    "plot_ts((99,99,.99), 'data/ts_feature_comparison_qinit10_rinit0.p')"
   ]
  },
  {
   "cell_type": "markdown",
   "metadata": {},
   "source": [
    "Due to additional exploration, our agent performs poorly in the first 20 trials but afterwards goes on without hesitation and with a clean slate. Even though the success rate dropped the performance in time and the reliability later down the road seem to improve our settings. The initial exploration seems to pay off later on.\n",
    "\n",
    "After these additional experiments the best parameters we are choosing are alpha values that decrease slowly over time, gamma values that increase slowly over time, an epsilon value of .99 and a high initial Q-value to balance out the high epsilon value and encourage exploration in the beginning. With this setup the agent gets close to finding an optimal policy which is defined by reaching the destination in the minimum possible time without getting any penalties. The agent not only learns the best possible policy but it also learns to act in an optimal way, finding the final destination in the smallest amount of time. Our initial implementation already outperforms the random agent significantly. When adding feature comparison and tweaked initial q-values the performance even rises.\n",
    "\n",
    "## Further Discussions\n",
    "There are a couple points that are not part of this analysis but would be interesting to explore in the future:\n",
    "\n",
    "* Randomness in action is a great way to keep the element of exploration but especially in a production or real-life setting this might be considered dangerous at a certain point.\n",
    "* Implementation of a different $\\epsilon$ strategy (i.e. softmax) might be worth trying out.\n",
    "* Classifying rewards or giving them priority levels might make it possible to add a meta-layer or more context to the choice of action.\n",
    "* Running the simulation for a longer time or adding additional agents would force difficult and dangerous actions more often and make the learning process better down the road. "
   ]
  },
  {
   "cell_type": "code",
   "execution_count": 67,
   "metadata": {
    "collapsed": false
   },
   "outputs": [
    {
     "data": {
      "text/html": [
       "<div>\n",
       "<table border=\"1\" class=\"dataframe\">\n",
       "  <thead>\n",
       "    <tr style=\"text-align: right;\">\n",
       "      <th></th>\n",
       "      <th>alpha</th>\n",
       "      <th>gamma</th>\n",
       "      <th>epsilon</th>\n",
       "      <th>no_success</th>\n",
       "      <th>success</th>\n",
       "      <th>steps</th>\n",
       "      <th>deadline_start</th>\n",
       "      <th>deadline_end</th>\n",
       "      <th>percentage</th>\n",
       "    </tr>\n",
       "  </thead>\n",
       "  <tbody>\n",
       "    <tr>\n",
       "      <th>0</th>\n",
       "      <td>99</td>\n",
       "      <td>99</td>\n",
       "      <td>0.99</td>\n",
       "      <td>9.6</td>\n",
       "      <td>990.4</td>\n",
       "      <td>9.8</td>\n",
       "      <td>29.664</td>\n",
       "      <td>16.9934</td>\n",
       "      <td>57.284142</td>\n",
       "    </tr>\n",
       "  </tbody>\n",
       "</table>\n",
       "</div>"
      ],
      "text/plain": [
       "   alpha  gamma  epsilon  no_success  success  steps  deadline_start  \\\n",
       "0     99     99     0.99         9.6    990.4    9.8          29.664   \n",
       "\n",
       "   deadline_end  percentage  \n",
       "0       16.9934   57.284142  "
      ]
     },
     "execution_count": 67,
     "metadata": {},
     "output_type": "execute_result"
    }
   ],
   "source": [
    "fc_final = pd.read_csv('data/feature_comparison_final.csv', sep = ';')\n",
    "fc_final.sort_values(['percentage', 'steps', 'success'], ascending=[False, True, False])"
   ]
  },
  {
   "cell_type": "code",
   "execution_count": 69,
   "metadata": {
    "collapsed": false
   },
   "outputs": [
    {
     "data": {
      "image/png": "[encoded data removed]",
      "text/plain": [
       "<matplotlib.figure.Figure at 0x117eeca90>"
      ]
     },
     "metadata": {},
     "output_type": "display_data"
    }
   ],
   "source": [
    "plot_ts((99,99,.99), 'data/ts_feature_comparison_final.p')"
   ]
  },
  {
   "cell_type": "code",
   "execution_count": null,
   "metadata": {
    "collapsed": true
   },
   "outputs": [],
   "source": []
  }
 ],
 "metadata": {
  "anaconda-cloud": {},
  "kernelspec": {
   "display_name": "Python [conda root]",
   "language": "python",
   "name": "conda-root-py"
  },
  "language_info": {
   "codemirror_mode": {
    "name": "ipython",
    "version": 2
   },
   "file_extension": ".py",
   "mimetype": "text/x-python",
   "name": "python",
   "nbconvert_exporter": "python",
   "pygments_lexer": "ipython2",
   "version": "2.7.12"
  }
 },
 "nbformat": 4,
 "nbformat_minor": 1
}
